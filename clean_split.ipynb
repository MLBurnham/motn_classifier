{
 "cells": [
  {
   "cell_type": "code",
   "execution_count": 1,
   "id": "baad1b9d-987a-45f6-afde-e8aced53f536",
   "metadata": {},
   "outputs": [],
   "source": [
    "import pandas as pd"
   ]
  },
  {
   "cell_type": "code",
   "execution_count": 2,
   "id": "c65fb291-9731-44e8-838c-4c1976f07325",
   "metadata": {
    "scrolled": true
   },
   "outputs": [],
   "source": [
    "motn = pd.read_csv('../motn data/train/try_this2.csv', encoding='cp1252')\n",
    "\n",
    "# drop missing values\n",
    "motn = motn[motn['NA.'] != 1]\n",
    "\n",
    "# drop index column\n",
    "motn.rename({'Unnamed: 0':'doc_id'}, axis = 1, inplace = True)\n",
    "\n",
    "# de-duplicate\n",
    "motn = motn[~motn.duplicated('comment_text')]\n",
    "\n",
    "# train-test split\n",
    "test = motn.sample(frac = .2, random_state = 1)\n",
    "train = motn[~motn.index.isin(test.index)]"
   ]
  },
  {
   "cell_type": "code",
   "execution_count": 3,
   "id": "36e4ff47-cc0a-4158-b239-38bbd24100c5",
   "metadata": {},
   "outputs": [
    {
     "name": "stderr",
     "output_type": "stream",
     "text": [
      "C:\\Users\\mikeb\\AppData\\Local\\Temp\\ipykernel_10144\\4188317511.py:1: SettingWithCopyWarning: \n",
      "A value is trying to be set on a copy of a slice from a DataFrame\n",
      "\n",
      "See the caveats in the documentation: https://pandas.pydata.org/pandas-docs/stable/user_guide/indexing.html#returning-a-view-versus-a-copy\n",
      "  train.drop('comment_text', axis = 1, inplace = True)\n"
     ]
    }
   ],
   "source": [
    "train.drop('comment_text', axis = 1, inplace = True)\n",
    "test.drop('comment_text', axis = 1, inplace = True)\n",
    "\n",
    "train.to_csv('motn_train.csv', index = False)\n",
    "test.to_csv('motn_test.csv', index = False)"
   ]
  }
 ],
 "metadata": {
  "kernelspec": {
   "display_name": "Python 3 (ipykernel)",
   "language": "python",
   "name": "python3"
  },
  "language_info": {
   "codemirror_mode": {
    "name": "ipython",
    "version": 3
   },
   "file_extension": ".py",
   "mimetype": "text/x-python",
   "name": "python",
   "nbconvert_exporter": "python",
   "pygments_lexer": "ipython3",
   "version": "3.11.5"
  }
 },
 "nbformat": 4,
 "nbformat_minor": 5
}
